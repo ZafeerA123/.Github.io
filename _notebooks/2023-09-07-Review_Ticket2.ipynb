{
 "cells": [
  {
   "cell_type": "code",
   "execution_count": null,
   "metadata": {},
   "outputs": [],
   "source": [
    "---\n",
    "toc: True\n",
    "comments: true\n",
    "layout: post\n",
    "title: Review Ticket\n",
    "description: This is a review of everything we learned in week 2.\n",
    "type: tangibles\n",
    "courses: { compsci: {week: 2} }\n",
    "categories: [C4.1]\n",
    "---"
   ]
  },
  {
   "cell_type": "markdown",
   "metadata": {},
   "source": [
    "## Experimentation with Bash"
   ]
  },
  {
   "cell_type": "code",
   "execution_count": 2,
   "metadata": {
    "vscode": {
     "languageId": "shellscript"
    }
   },
   "outputs": [
    {
     "name": "stdout",
     "output_type": "stream",
     "text": [
      "Hello World!\n",
      "Using the echo command!\n"
     ]
    }
   ],
   "source": [
    "%%script bash\n",
    "## Personal Experimentation\n",
    "echo \"Hello World!\"\n",
    "echo \"Using the echo command!\""
   ]
  },
  {
   "cell_type": "markdown",
   "metadata": {},
   "source": [
    "## Experimentation with Basic Javascript"
   ]
  },
  {
   "cell_type": "code",
   "execution_count": 18,
   "metadata": {},
   "outputs": [
    {
     "data": {
      "text/html": [
       "<html>\n",
       "    <head>\n",
       "        <style>\n",
       "            #output {\n",
       "                background-color: #00008B;\n",
       "                padding: 10px;\n",
       "                border: 3px solid #ccc;\n",
       "            }\n",
       "        </style>\n",
       "    </head>\n",
       "    <body>\n",
       "        <div id=\"output\">\n",
       "            Hello!\n",
       "        </div>\n",
       "    </body>\n",
       "</html>\n"
      ],
      "text/plain": [
       "<IPython.core.display.HTML object>"
      ]
     },
     "metadata": {},
     "output_type": "display_data"
    }
   ],
   "source": [
    "%%html\n",
    "<html>\n",
    "    <head>\n",
    "        <style>\n",
    "            #output {\n",
    "                background-color: #00008B;\n",
    "                padding: 10px;\n",
    "                border: 3px solid #ccc;\n",
    "            }\n",
    "        </style>\n",
    "    </head>\n",
    "    <body>\n",
    "        <div id=\"output\">\n",
    "            Hello!\n",
    "        </div>\n",
    "    </body>\n",
    "</html>"
   ]
  },
  {
   "cell_type": "markdown",
   "metadata": {},
   "source": [
    "<br>\n",
    "<br>"
   ]
  },
  {
   "cell_type": "markdown",
   "metadata": {},
   "source": [
    "<!-- Head contains information to Support the Document -->\n",
    "<head>\n",
    "    <!-- load jQuery and DataTables output style and scripts -->\n",
    "    <link rel=\"stylesheet\" type=\"text/css\" href=\"https://cdn.datatables.net/1.13.4/css/jquery.dataTables.min.css\">\n",
    "    <script type=\"text/javascript\" language=\"javascript\" src=\"https://code.jquery.com/jquery-3.6.0.min.js\"></script>\n",
    "    <script>var define = null;</script>\n",
    "    <script type=\"text/javascript\" language=\"javascript\" src=\"https://cdn.datatables.net/1.13.4/js/jquery.dataTables.min.js\"></script>\n",
    "</head>\n",
    "\n",
    "<!-- Body contains the contents of the Document -->\n",
    "<body>\n",
    "    <table id=\"md_demo\" class=\"table\">\n",
    "        <thead>\n",
    "            <tr>\n",
    "                <th>Make</th>\n",
    "                <th>Model</th>\n",
    "                <th>Year</th>\n",
    "                <th>Color</th>\n",
    "                <th>Price</th>\n",
    "            </tr>\n",
    "        </thead>\n",
    "        <tbody>\n",
    "            <tr>\n",
    "                <td>Ford</td>\n",
    "                <td>Mustang</td>\n",
    "                <td>2022</td>\n",
    "                <td>Red</td>\n",
    "                <td>$35,000</td>\n",
    "            </tr>\n",
    "            <tr>\n",
    "                <td>Toyota</td>\n",
    "                <td>Camry</td>\n",
    "                <td>2022</td>\n",
    "                <td>Silver</td>\n",
    "                <td>$25,000</td>\n",
    "            </tr>\n",
    "            <tr>\n",
    "                <td>Tesla</td>\n",
    "                <td>Model S</td>\n",
    "                <td>2022</td>\n",
    "                <td>White</td>\n",
    "                <td>$80,000</td>\n",
    "            </tr>\n",
    "            <tr>\n",
    "                <td>Cadillac</td>\n",
    "                <td>Broughan</td>\n",
    "                <td>1969</td>\n",
    "                <td>Black</td>\n",
    "                <td>$10,000</td>\n",
    "            </tr>\n",
    "            <tr>\n",
    "                <td>Ford</td>\n",
    "                <td>F-350</td>\n",
    "                <td>1997</td>\n",
    "                <td>Green</td>\n",
    "                <td>$15,000</td>\n",
    "            </tr>\n",
    "            <tr>\n",
    "                <td>Ford</td>\n",
    "                <td>Excursion</td>\n",
    "                <td>2003</td>\n",
    "                <td>Green</td>\n",
    "                <td>$25,000</td>\n",
    "            </tr>\n",
    "            <tr>\n",
    "                <td>Ford</td>\n",
    "                <td>Ranger</td>\n",
    "                <td>2012</td>\n",
    "                <td>Red</td>\n",
    "                <td>$8,000</td>\n",
    "            </tr>\n",
    "            <tr>\n",
    "                <td>Kuboto</td>\n",
    "                <td>L3301 Tractor</td>\n",
    "                <td>2015</td>\n",
    "                <td>Orange</td>\n",
    "                <td>$12,000</td>\n",
    "            </tr>\n",
    "            <tr>\n",
    "                <td>Ford</td>\n",
    "                <td>Fusion Energi</td>\n",
    "                <td>2015</td>\n",
    "                <td>Guard</td>\n",
    "                <td>$25,000</td>\n",
    "            </tr>\n",
    "            <tr>\n",
    "                <td>Acura</td>\n",
    "                <td>XL</td>\n",
    "                <td>2006</td>\n",
    "                <td>Grey</td>\n",
    "                <td>$10,000</td>\n",
    "            </tr>\n",
    "            <tr>\n",
    "                <td>Ford</td>\n",
    "                <td>F150 Lightning</td>\n",
    "                <td>2024</td>\n",
    "                <td>Guard</td>\n",
    "                <td>$70,000</td>\n",
    "            </tr>\n",
    "        </tbody>\n",
    "    </table>\n",
    "</body>\n",
    "\n",
    "<!-- Script is used to embed executable code -->\n",
    "<script>\n",
    "    $(\"#md_demo\").DataTable();\n",
    "</script>"
   ]
  }
 ],
 "metadata": {
  "kernelspec": {
   "display_name": "Python 3",
   "language": "python",
   "name": "python3"
  },
  "language_info": {
   "codemirror_mode": {
    "name": "ipython",
    "version": 3
   },
   "file_extension": ".py",
   "mimetype": "text/x-python",
   "name": "python",
   "nbconvert_exporter": "python",
   "pygments_lexer": "ipython3",
   "version": "3.10.12"
  },
  "orig_nbformat": 4
 },
 "nbformat": 4,
 "nbformat_minor": 2
}
