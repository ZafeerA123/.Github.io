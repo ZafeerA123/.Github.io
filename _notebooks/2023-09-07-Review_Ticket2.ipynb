{
 "cells": [
  {
   "cell_type": "code",
   "execution_count": null,
   "metadata": {},
   "outputs": [],
   "source": [
    "---\n",
    "toc: True\n",
    "comments: true\n",
    "layout: post\n",
    "title: Review Ticket\n",
    "description: This is a review of everything we learned in week 2.\n",
    "type: tangibles\n",
    "courses: { compsci: {week: 2} }\n",
    "categories: [C4.1]\n",
    "---"
   ]
  },
  {
   "cell_type": "markdown",
   "metadata": {},
   "source": [
    "## How to input link in html\n",
    "\n",
    "```javascript\n",
    "<a href=\"LINK OF EXAMPLE WEBSITE\">Visit Example Website</a>\n",
    "```"
   ]
  },
  {
   "cell_type": "markdown",
   "metadata": {},
   "source": [
    "## How to add link on jupyter\n",
    "\n",
    "```python\n",
    "[Link Name](Actual Link)\n",
    "```"
   ]
  },
  {
   "cell_type": "markdown",
   "metadata": {},
   "source": [
    "## How to add photo to vscode\n",
    "\n",
    "```javascript\n",
    "\"![NAME OF SCRENSHOT.png](<attachment: NAME OF SCRREENSHOT.png>)\"\n",
    "```"
   ]
  },
  {
   "cell_type": "markdown",
   "metadata": {},
   "source": [
    "## How to make an image\n",
    ">Use this template (make sure to add  < >): <br>\n",
    "- img alt=\"example\" src=\"{{site.baseurl}}/images/example.png\" title=\"anything\" width=\"250\" length=\"250\""
   ]
  },
  {
   "cell_type": "markdown",
   "metadata": {},
   "source": [
    "## How to make table in markdown\n",
    "\n",
    "|Teacher  |Class  |Amazing  |\n",
    "|---|----|---|\n",
    "|Mr. Mort  |A101  |Yes  |\n",
    "|Mr. Lopez  |A103  |Yup  |"
   ]
  }
 ],
 "metadata": {
  "kernelspec": {
   "display_name": "Python 3",
   "language": "python",
   "name": "python3"
  },
  "language_info": {
   "codemirror_mode": {
    "name": "ipython",
    "version": 3
   },
   "file_extension": ".py",
   "mimetype": "text/x-python",
   "name": "python",
   "nbconvert_exporter": "python",
   "pygments_lexer": "ipython3",
   "version": "3.10.12"
  },
  "orig_nbformat": 4
 },
 "nbformat": 4,
 "nbformat_minor": 2
}
