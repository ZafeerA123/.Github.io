{
 "cells": [
  {
   "attachments": {},
   "cell_type": "markdown",
   "metadata": {},
   "source": [
    "---\n",
    "toc: true\n",
    "comments: false\n",
    "layout: post\n",
    "title: JS Table interactble table\n",
    "description: \n",
    "type: hacks\n",
    "courses: { compsci: {week: 3} }\n",
    "---"
   ]
  },
  {
   "cell_type": "markdown",
   "metadata": {},
   "source": [
    "### Markdown Table\n",
    "Google [markdown cheat sheet](https://www.markdownguide.org/extended-syntax/#tables) and it lead you to an outline for how to make a table.\n",
    "\n",
    "| Make | Model | Year | Color | Price |\n",
    "|------|-------|------|-------|-------|\n",
    "|Ford|Mustang|2022|Red|$35,000|\n",
    "|Toyota|Camry|2022|Silver|$25,00|\n",
    "|Tesla|Model S|2022|White|$80,000|\n",
    "|Cadillac|Broughan|1969|Black|$10,000|\n",
    "|Ford|F-350|1997|Green|$15,000|\n",
    "|Ford|Excursion|2003|Green|$25,000|\n",
    "|Ford|Ranger|2012|Red|$8,000|\n",
    "|Kuboto|L3301 Tractor|2015|Orange|$12,000|\n",
    "|Ford|Fusion Energi|2015|Green|$15,000|\n",
    "|Acura|XL|2006|Grey|$10,000|\n",
    "|Ford|F150 Lightning|2023|Grey|$70,000|"
   ]
  },
  {
   "cell_type": "markdown",
   "metadata": {},
   "source": [
    "### HTML Table\n",
    "Google [w3schools html table](https://www.w3schools.com/html/html_tables.asp) and it will lead you to a tutorial on how to make tables."
   ]
  },
  {
   "cell_type": "markdown",
   "metadata": {},
   "source": [
    "## Hacks\n",
    "This lesson teaches you about tables.  In this hack, it is important that you analze the difference in the styles of output shown.  \n",
    "- Make your own tables, with data according to your interests.\n",
    "- Describe a benefit of a markdown table.\n",
    "- Try to Style the HTML table using w3schools.\n",
    "- Describe the difference between HTML and JavaScript.\n",
    "- Describe a benefit of a table that uses JavaScript.\n"
   ]
  }
 ],
 "metadata": {
  "kernelspec": {
   "display_name": "Python 3.8.10 64-bit",
   "language": "python",
   "name": "python3"
  },
  "language_info": {
   "codemirror_mode": {
    "name": "ipython",
    "version": 3
   },
   "file_extension": ".py",
   "mimetype": "text/x-python",
   "name": "python",
   "nbconvert_exporter": "python",
   "pygments_lexer": "ipython3",
   "version": "3.11.4"
  },
  "vscode": {
   "interpreter": {
    "hash": "916dbcbb3f70747c44a77c7bcd40155683ae19c65e1c03b4aa3499c5328201f1"
   }
  }
 },
 "nbformat": 4,
 "nbformat_minor": 2
}
