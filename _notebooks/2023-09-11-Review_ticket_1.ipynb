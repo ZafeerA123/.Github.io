{
 "cells": [
  {
   "cell_type": "code",
   "execution_count": null,
   "metadata": {},
   "outputs": [],
   "source": [
    "---\n",
    "layout: post\n",
    "title: Ricket Ticket\n",
    "description: Review ticket for Week 1\n",
    "toc: false\n",
    "comments: true\n",
    "categories: [5.A, C4.1]\n",
    "courses: { compsci: {week: 1} }\n",
    "type: tangibles\n",
    "---"
   ]
  },
  {
   "cell_type": "markdown",
   "metadata": {},
   "source": [
    "## What each Directory is \n",
    "\n",
    "Compsci.yml: Defining the structured data, in this case for our website the names of each header. For example [Time_Box_Page](https://zafeera123.github.io/ZafeerA123/compsci) or [Blogs](https://zafeera123.github.io/ZafeerA123/blogs) <br>\n",
    "\n"
   ]
  },
  {
   "cell_type": "markdown",
   "metadata": {},
   "source": [
    "## Problem I faced\n",
    "One problem I faced was when I published my page to github, my page was not loading. The message \n",
    "<center>\n",
    "    <img src=\"Screenshot 2023-09-14 135445.png\" width=\"350\" height=\"250\">\n",
    "</center>\n",
    " was showing up all the time, so what I did was go into the \n",
    "\n",
    " ```python\n",
    "_config.yml\n",
    "```\n",
    "and then I changed the url so that it was my github ID, and since I did this the page would recognize my id, and the page would then load. "
   ]
  },
  {
   "cell_type": "markdown",
   "metadata": {},
   "source": [
    "## Linux Commands to Remember\n",
    "- ls = list in directory\n",
    "- cd = go to directory\n",
    "- mkdir = make directory\n",
    "- echo = print whatever follows"
   ]
  }
 ],
 "metadata": {
  "language_info": {
   "name": "python"
  },
  "orig_nbformat": 4
 },
 "nbformat": 4,
 "nbformat_minor": 2
}
