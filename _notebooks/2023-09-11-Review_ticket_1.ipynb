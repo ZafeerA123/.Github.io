{
 "cells": [
  {
   "cell_type": "markdown",
   "metadata": {},
   "source": [
    "---\n",
    "layout: post\n",
    "title: Ricket Ticket\n",
    "description: Review ticket for Week 1\n",
    "toc: False\n",
    "comments: True\n",
    "categories: ['5.A', 'C4.1']\n",
    "courses: {'compsci': {'week': 1}}\n",
    "type: tangibles\n",
    "---\n"
   ]
  },
  {
   "cell_type": "markdown",
   "metadata": {},
   "source": [
    "## What each Directory is \n",
    "\n",
    "Compsci.yml: Defining the structured data, in this case for our website the names of each header. For example [Time_Box_Page](https://zafeera123.github.io/ZafeerA123/compsci) or [Blogs](https://zafeera123.github.io/ZafeerA123/blogs) <br>\n",
    "\n",
    "_Notebooks: These are jupyter notebooks, and are .ipynb files and allows for cell based programming, or interactble pages (Can use different types of code) <br>\n",
    "\n",
    "_Posts: These are .md or markdown files, which are usually used for plain text. <br>\n",
    "\n",
    ".github-> jekyll-gh-pages.yml: Used for hosting Jekyll-based websites on GitHub Pages. <br>\n",
    "\n",
    "index.md: Used for creating the homepage of the website <br>\n",
    "\n",
    "\n",
    "\n",
    "\n",
    "\n",
    "## Problem I faced\n",
    "One problem I faced was when I published my page to github, my page was not loading. The message "
   ]
  },
  {
   "cell_type": "markdown",
   "metadata": {},
   "source": [
    "![Image Alt Text](./images/FILENOTFOUND.png)\n"
   ]
  },
  {
   "cell_type": "markdown",
   "metadata": {},
   "source": [
    "was showing up all the time, so what I did was go into the \n",
    "\n",
    " ```python\n",
    "_config.yml\n",
    "```\n",
    "and then I changed the url so that it was my github ID, and since I did this the page would recognize my id, and the page would then load. \n",
    "\n",
    "## Linux Commands to Remember\n",
    "- ls = list in directory\n",
    "- cd = go to directory\n",
    "- mkdir = make directory\n",
    "- echo = print whatever follows"
   ]
  }
 ],
 "metadata": {
  "kernelspec": {
   "display_name": "Python 3",
   "language": "python",
   "name": "python3"
  },
  "language_info": {
   "codemirror_mode": {
    "name": "ipython",
    "version": 3
   },
   "file_extension": ".py",
   "mimetype": "text/x-python",
   "name": "python",
   "nbconvert_exporter": "python",
   "pygments_lexer": "ipython3",
   "version": "3.10.12"
  },
  "orig_nbformat": 4
 },
 "nbformat": 4,
 "nbformat_minor": 2
}
