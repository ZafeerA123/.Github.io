{
 "cells": [
  {
   "cell_type": "markdown",
   "metadata": {},
   "source": [
    "---\n",
    "layout: post\n",
    "title: 1.4 Correcting errors\n",
    "description: Practice with identifying and correcting code blocks\n",
    "type: ccc\n",
    "author: Zafeer\n",
    "permalink: /basics/js-debug\n",
    "hide: True\n",
    "comments: True\n",
    "---"
   ]
  },
  {
   "cell_type": "markdown",
   "metadata": {},
   "source": [
    "## Hacks\n"
   ]
  },
  {
   "cell_type": "code",
   "execution_count": 3,
   "metadata": {
    "vscode": {
     "languageId": "javascript"
    }
   },
   "outputs": [
    {
     "data": {
      "application/javascript": "var alphabet = \"abcdefghijklmnopqrstuvwxyz\";\nvar alphabetList = [];\n\nfor (var i = 0; i < alphabet.length; i++) { // Use alphabet.length to iterate over the characters\n\talphabetList.push(alphabet[i]); // Push characters from the 'alphabet' string into the list\n}\n\nconsole.log(alphabetList);\n",
      "text/plain": [
       "<IPython.core.display.Javascript object>"
      ]
     },
     "metadata": {},
     "output_type": "display_data"
    }
   ],
   "source": [
    "%%js\n",
    "var alphabet = \"abcdefghijklmnopqrstuvwxyz\";\n",
    "var alphabetList = [];\n",
    "\n",
    "for (var i = 0; i < alphabet.length; i++) { // Use alphabet.length to iterate over the characters\n",
    "\talphabetList.push(alphabet[i]); // Push characters from the 'alphabet' string into the list\n",
    "}\n",
    "\n",
    "console.log(alphabetList);\n"
   ]
  },
  {
   "cell_type": "markdown",
   "metadata": {},
   "source": [
    "## What I changed\n",
    "1. Changed the loop condition to go through the characters in the 'alphabet' string again\n",
    "2. Pushed the characters from the 'alphabet' string into the 'alphabetList' array"
   ]
  },
  {
   "cell_type": "code",
   "execution_count": 4,
   "metadata": {
    "vscode": {
     "languageId": "javascript"
    }
   },
   "outputs": [
    {
     "data": {
      "application/javascript": "// Copy your previous code to build alphabetList here\nlet alphabet = \"abcdefghijklmnopqrstuvwxyz\";\nlet letterNumber = 5;\n\nfor (var i = 0; i < alphabet.length; i++) { // Use alphabet.length to iterate over the characters\n\tif (i + 1 === letterNumber) { // Compare (i + 1) with letterNumber\n\t\tconsole.log(alphabet[i] + \" is letter number \" + letterNumber + \" in the alphabet\"); // Print the corresponding letter and position\n\t}\n}\n",
      "text/plain": [
       "<IPython.core.display.Javascript object>"
      ]
     },
     "metadata": {},
     "output_type": "display_data"
    }
   ],
   "source": [
    "%%js\n",
    "// Copy your previous code to build alphabetList here\n",
    "let alphabet = \"abcdefghijklmnopqrstuvwxyz\";\n",
    "let letterNumber = 5;\n",
    "\n",
    "for (var i = 0; i < alphabet.length; i++) { // Use alphabet.length to iterate over the characters\n",
    "\tif (i + 1 === letterNumber) { // Compare (i + 1) with letterNumber\n",
    "\t\tconsole.log(alphabet[i] + \" is letter number \" + letterNumber + \" in the alphabet\"); // Print the corresponding letter and position\n",
    "\t}\n",
    "}\n"
   ]
  },
  {
   "cell_type": "markdown",
   "metadata": {},
   "source": [
    "## What I changed\n",
    "1. Used the 'alphaet' string and its length to go through the characters again\n",
    "2. Corrected the comparision to check if (i+1) is equal to 'letterNumber'\n",
    "3. Printed the cooresponding letter and position in the alphabet"
   ]
  },
  {
   "cell_type": "code",
   "execution_count": 5,
   "metadata": {
    "vscode": {
     "languageId": "javascript"
    }
   },
   "outputs": [
    {
     "data": {
      "application/javascript": "let odds = []; // Changed the variable name to 'odds'\nlet i = 1; // Start from 1 to include odd numbers\n\nwhile (i <= 10) {\n  odds.push(i); // Push odd numbers into 'odds'\n  i += 2; // Increment by 2 to get the next odd number\n}\n\nconsole.log(odds);\n",
      "text/plain": [
       "<IPython.core.display.Javascript object>"
      ]
     },
     "metadata": {},
     "output_type": "display_data"
    }
   ],
   "source": [
    "%%js\n",
    "let odds = []; // Changed the variable name to 'odds'\n",
    "let i = 1; // Start from 1 to include odd numbers\n",
    "\n",
    "while (i <= 10) {\n",
    "  odds.push(i); // Push odd numbers into 'odds'\n",
    "  i += 2; // Increment by 2 to get the next odd number\n",
    "}\n",
    "\n",
    "console.log(odds);\n"
   ]
  },
  {
   "cell_type": "markdown",
   "metadata": {},
   "source": [
    "## What I changed\n",
    "1. Changed the variable name from 'evens' to 'odds' \n",
    "2. Started 'i' from 1 to include odd numbers. \n",
    "3. Made 'i' go by two to get all the odd numbers. "
   ]
  },
  {
   "cell_type": "code",
   "execution_count": 8,
   "metadata": {
    "vscode": {
     "languageId": "javascript"
    }
   },
   "outputs": [
    {
     "data": {
      "application/javascript": "var numbers = [];\nvar newNumbers = [];\nvar i = 1; // Start from 1 to include numbers between 1 and 100\n\nwhile (i <= 100) { // Changed the loop condition to include numbers up to 100\n    numbers.push(i);\n    i += 1;\n}\n\nfor (var num of numbers) { // Used 'num' as the loop variable\n    if (num % 5 === 0 || num % 2 === 0) { // Check for multiples of 2 or 5\n        newNumbers.push(num);\n    }\n}\n\nconsole.log(newNumbers);\n",
      "text/plain": [
       "<IPython.core.display.Javascript object>"
      ]
     },
     "metadata": {},
     "output_type": "display_data"
    }
   ],
   "source": [
    "%%js\n",
    "var numbers = [];\n",
    "var newNumbers = [];\n",
    "var i = 1; // Start from 1 to include numbers between 1 and 100\n",
    "\n",
    "while (i <= 100) { // Changed the loop condition to include numbers up to 100\n",
    "    numbers.push(i);\n",
    "    i += 1;\n",
    "}\n",
    "\n",
    "for (var num of numbers) { // Used 'num' as the loop variable\n",
    "    if (num % 5 === 0 || num % 2 === 0) { // Check for multiples of 2 or 5\n",
    "        newNumbers.push(num);\n",
    "    }\n",
    "}\n",
    "\n",
    "console.log(newNumbers);\n"
   ]
  },
  {
   "cell_type": "markdown",
   "metadata": {},
   "source": [
    "## What I changed\n",
    "1. Changed the loop to go through numbers up to 100\n",
    "2. Used 'num' as the loop variable\n",
    "3. Checked for variables of 2 or 5 "
   ]
  },
  {
   "cell_type": "code",
   "execution_count": 9,
   "metadata": {
    "vscode": {
     "languageId": "javascript"
    }
   },
   "outputs": [
    {
     "data": {
      "application/javascript": "if (keys['ArrowDown'] && player.y < canvas.height) {\n    player.y += player.speed;\n}\n",
      "text/plain": [
       "<IPython.core.display.Javascript object>"
      ]
     },
     "metadata": {},
     "output_type": "display_data"
    }
   ],
   "source": [
    "%%js\n",
    "if (keys['ArrowDown'] && player.y < canvas.height) {\n",
    "    player.y += player.speed;\n",
    "}\n"
   ]
  },
  {
   "cell_type": "markdown",
   "metadata": {},
   "source": [
    "The original code didn't account for the player's size when checking if it's at the bottom of the canvas, which causes a rendering issue"
   ]
  },
  {
   "cell_type": "code",
   "execution_count": 10,
   "metadata": {
    "vscode": {
     "languageId": "javascript"
    }
   },
   "outputs": [
    {
     "data": {
      "application/javascript": "if (keys['ArrowDown'] && player.y < canvas.height - 20) {\n    player.y += player.speed;\n}\n",
      "text/plain": [
       "<IPython.core.display.Javascript object>"
      ]
     },
     "metadata": {},
     "output_type": "display_data"
    }
   ],
   "source": [
    "%%js\n",
    "if (keys['ArrowDown'] && player.y < canvas.height - 20) {\n",
    "    player.y += player.speed;\n",
    "}\n"
   ]
  },
  {
   "cell_type": "markdown",
   "metadata": {},
   "source": [
    "I subtracted the player's height from the canvs, to prevent the rendering issue."
   ]
  }
 ],
 "metadata": {
  "kernelspec": {
   "display_name": "Python 3.10.6 64-bit",
   "language": "python",
   "name": "python3"
  },
  "language_info": {
   "codemirror_mode": {
    "name": "ipython",
    "version": 3
   },
   "file_extension": ".py",
   "mimetype": "text/x-python",
   "name": "python",
   "nbconvert_exporter": "python",
   "pygments_lexer": "ipython3",
   "version": "3.10.12"
  },
  "orig_nbformat": 4,
  "vscode": {
   "interpreter": {
    "hash": "aee8b7b246df8f9039afb4144a1f6fd8d2ca17a180786b69acc140d282b71a49"
   }
  }
 },
 "nbformat": 4,
 "nbformat_minor": 2
}
