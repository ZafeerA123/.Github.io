{
 "cells": [
  {
   "cell_type": "markdown",
   "metadata": {},
   "source": [
    "---\n",
    "layout: post\n",
    "title: 1.4 Correcting errors\n",
    "description: Practice with identifying and correcting code blocks\n",
    "type: ccc\n",
    "author: Zafeer\n",
    "permalink: /basics/js-debug\n",
    "hide: True\n",
    "comments: True\n",
    "---"
   ]
  },
  {
   "cell_type": "markdown",
   "metadata": {},
   "source": [
    "{% include nav_basics.html %}"
   ]
  },
  {
   "cell_type": "markdown",
   "metadata": {},
   "source": [
    "[College Board Big Idea 1](https://apclassroom.collegeboard.org/103/home?unit=1)\n",
    "\n",
    "## Identifying and Correcting Errors (Unit 1.4)\n",
    "\n",
    "> Become familiar with types of errors and strategies for fixing them\n",
    "\n",
    "- Review CollegeBoard videos and take notes on blog\n",
    "- Complete assigned MCQ questions if applicable"
   ]
  },
  {
   "cell_type": "markdown",
   "metadata": {},
   "source": [
    "# Code Segments\n",
    "\n",
    "Practice fixing the following code segments!"
   ]
  },
  {
   "cell_type": "markdown",
   "metadata": {},
   "source": [
    "## Segment 1: Alphabet List\n",
    "\n",
    "Intended behavior: create a list of characters from the string contained in the variable `alphabet`\n",
    "\n",
    "### Code:"
   ]
  },
  {
   "cell_type": "code",
   "execution_count": null,
   "metadata": {
    "vscode": {
     "languageId": "javascript"
    }
   },
   "outputs": [],
   "source": [
    "%%js\n",
    "\n",
    "var alphabet = \"abcdefghijklmnopqrstuvwxyz\";\n",
    "var alphabetList = [];\n",
    "\n",
    "for (var i = 0; i < 10; i++) {\n",
    "\talphabetList.push(i);\n",
    "}\n",
    "\n",
    "console.log(alphabetList);"
   ]
  },
  {
   "cell_type": "markdown",
   "metadata": {},
   "source": [
    "### What I Changed\n",
    "\n",
    "I changed..."
   ]
  },
  {
   "cell_type": "markdown",
   "metadata": {},
   "source": [
    "## Segment 2: Numbered Alphabet\n",
    "\n",
    "Intended behavior: print the number of a given alphabet letter within the alphabet. For example:\n",
    "```\n",
    "\"_\" is letter number _ in the alphabet\n",
    "```\n",
    "\n",
    "Where the underscores (_) are replaced with the letter and the position of that letter within the alphabet (e.g. a=1, b=2, etc.)\n",
    "\n",
    "### Code:"
   ]
  },
  {
   "cell_type": "code",
   "execution_count": null,
   "metadata": {
    "vscode": {
     "languageId": "javascript"
    }
   },
   "outputs": [],
   "source": [
    "%%js\n",
    "\n",
    "// Copy your previous code to built alphabetList here\n",
    "\n",
    "let letterNumber = 5\n",
    "\n",
    "for (var i = 0; i < alphabetList; i++) {\n",
    "\tif (i === letterNumber) {\n",
    "\t\tconsole.log(letterNumber + \" is letter number 1 in the alphabet\")\n",
    "\t}\n",
    "}\n",
    "\n",
    "// Should output:\n",
    "// \"e\" is letter number 5 in the alphabet"
   ]
  },
  {
   "cell_type": "markdown",
   "metadata": {},
   "source": [
    "### What I Changed\n",
    "\n",
    "I changed..."
   ]
  },
  {
   "cell_type": "markdown",
   "metadata": {},
   "source": [
    "## Segment 3: Odd Numbers\n",
    "\n",
    "Intended behavior: print a list of all the odd numbers below 10\n",
    "\n",
    "### Code:"
   ]
  },
  {
   "cell_type": "code",
   "execution_count": null,
   "metadata": {
    "vscode": {
     "languageId": "javascript"
    }
   },
   "outputs": [],
   "source": [
    "%%js\n",
    "\n",
    "let evens = [];\n",
    "let i = 0;\n",
    "\n",
    "while (i <= 10) {\n",
    "  evens.push(i);\n",
    "  i += 2;\n",
    "}\n",
    "\n",
    "console.log(evens);"
   ]
  },
  {
   "cell_type": "markdown",
   "metadata": {},
   "source": [
    "### What I Changed\n",
    "\n",
    "I changed..."
   ]
  },
  {
   "cell_type": "markdown",
   "metadata": {},
   "source": [
    "# BELOW NOT EDITED"
   ]
  },
  {
   "cell_type": "markdown",
   "metadata": {},
   "source": [
    "The intended outcome is printing a number between 1 and 100 once, if it is a multiple of 2 or 5 \n",
    "- What values are outputted incorrectly. Why?\n",
    "- Make changes to get the intended outcome."
   ]
  },
  {
   "cell_type": "code",
   "execution_count": null,
   "metadata": {
    "vscode": {
     "languageId": "javascript"
    }
   },
   "outputs": [],
   "source": [
    "%%js\n",
    "\n",
    "var numbers = []\n",
    "var newNumbers = []\n",
    "var i = 0\n",
    "\n",
    "while (i < 100) {\n",
    "    numbers.push(i)\n",
    "    i += 1\n",
    "}\n",
    "for (var i of numbers) {\n",
    "    if (numbers[i] % 5 === 0)\n",
    "        newNumbers.push(numbers[i])\n",
    "    if (numbers[i] % 2 === 0)\n",
    "        newNumbers.push(numbers[i])\n",
    "}\n",
    "console.log(newNumbers) \n",
    "\n"
   ]
  },
  {
   "cell_type": "markdown",
   "metadata": {},
   "source": [
    "# Challenge\n",
    "\n",
    "This code segment is at a very early stage of implementation.\n",
    "- What are some ways to (user) error proof this code?\n",
    "- The code should be able to calculate the cost of the meal of the user\n",
    "\n",
    "Hint:\n",
    "- write a “single” test describing an expectation of the program of the program\n",
    "- test - input burger, expect output of burger price\n",
    "- run the test, which should fail because the program lacks that feature\n",
    "- write “just enough” code, the simplest possible, to make the test pass\n",
    "\n",
    "Then repeat this process until you get program working like you want it to work."
   ]
  },
  {
   "cell_type": "code",
   "execution_count": null,
   "metadata": {
    "vscode": {
     "languageId": "javascript"
    }
   },
   "outputs": [],
   "source": [
    "%%js\n",
    "\n",
    "var menu =  {\"burger\": 3.99,\n",
    "         \"fries\": 1.99,\n",
    "         \"drink\": 0.99}\n",
    "var total = 0\n",
    "\n",
    "//shows the user the menu and prompts them to select an item\n",
    "console.log(\"Menu\")\n",
    "for (var item in menu) {\n",
    "    console.log(item + \"  $\" + menu[item].toFixed(2)) //why is toFixed used?\n",
    "}\n",
    "//ideally the code should support mutliple items\n",
    "var item = \"burger\"\n",
    "\n",
    "//code should add the price of the menu items selected by the user \n",
    "console.log(total)"
   ]
  },
  {
   "cell_type": "markdown",
   "metadata": {},
   "source": [
    "## Hacks\n",
    "- Fix the errors in the first three segments in this notebook and say what you changed in the code cell under \"What I Changed\" (Challenge is optional)"
   ]
  },
  {
   "cell_type": "code",
   "execution_count": 3,
   "metadata": {
    "vscode": {
     "languageId": "javascript"
    }
   },
   "outputs": [
    {
     "data": {
      "application/javascript": "var alphabet = \"abcdefghijklmnopqrstuvwxyz\";\nvar alphabetList = [];\n\nfor (var i = 0; i < alphabet.length; i++) { // Use alphabet.length to iterate over the characters\n\talphabetList.push(alphabet[i]); // Push characters from the 'alphabet' string into the list\n}\n\nconsole.log(alphabetList);\n",
      "text/plain": [
       "<IPython.core.display.Javascript object>"
      ]
     },
     "metadata": {},
     "output_type": "display_data"
    }
   ],
   "source": [
    "%%js\n",
    "var alphabet = \"abcdefghijklmnopqrstuvwxyz\";\n",
    "var alphabetList = [];\n",
    "\n",
    "for (var i = 0; i < alphabet.length; i++) { // Use alphabet.length to iterate over the characters\n",
    "\talphabetList.push(alphabet[i]); // Push characters from the 'alphabet' string into the list\n",
    "}\n",
    "\n",
    "console.log(alphabetList);\n"
   ]
  },
  {
   "cell_type": "markdown",
   "metadata": {},
   "source": [
    "## What I changed\n",
    "1. Changed the loop condition to go through the characters in the 'alphabet' string again\n",
    "2. Pushed the characters from the 'alphabet' string into the 'alphabetList' array"
   ]
  },
  {
   "cell_type": "code",
   "execution_count": 4,
   "metadata": {
    "vscode": {
     "languageId": "javascript"
    }
   },
   "outputs": [
    {
     "data": {
      "application/javascript": "// Copy your previous code to build alphabetList here\nlet alphabet = \"abcdefghijklmnopqrstuvwxyz\";\nlet letterNumber = 5;\n\nfor (var i = 0; i < alphabet.length; i++) { // Use alphabet.length to iterate over the characters\n\tif (i + 1 === letterNumber) { // Compare (i + 1) with letterNumber\n\t\tconsole.log(alphabet[i] + \" is letter number \" + letterNumber + \" in the alphabet\"); // Print the corresponding letter and position\n\t}\n}\n",
      "text/plain": [
       "<IPython.core.display.Javascript object>"
      ]
     },
     "metadata": {},
     "output_type": "display_data"
    }
   ],
   "source": [
    "%%js\n",
    "// Copy your previous code to build alphabetList here\n",
    "let alphabet = \"abcdefghijklmnopqrstuvwxyz\";\n",
    "let letterNumber = 5;\n",
    "\n",
    "for (var i = 0; i < alphabet.length; i++) { // Use alphabet.length to iterate over the characters\n",
    "\tif (i + 1 === letterNumber) { // Compare (i + 1) with letterNumber\n",
    "\t\tconsole.log(alphabet[i] + \" is letter number \" + letterNumber + \" in the alphabet\"); // Print the corresponding letter and position\n",
    "\t}\n",
    "}\n"
   ]
  },
  {
   "cell_type": "markdown",
   "metadata": {},
   "source": [
    "## What I changed\n",
    "1. Used the 'alphaet' string and its length to go through the characters again\n",
    "2. Corrected the comparision to check if (i+1) is equal to 'letterNumber'\n",
    "3. Printed the cooresponding letter and position in the alphabet"
   ]
  },
  {
   "cell_type": "code",
   "execution_count": 5,
   "metadata": {
    "vscode": {
     "languageId": "javascript"
    }
   },
   "outputs": [
    {
     "data": {
      "application/javascript": "let odds = []; // Changed the variable name to 'odds'\nlet i = 1; // Start from 1 to include odd numbers\n\nwhile (i <= 10) {\n  odds.push(i); // Push odd numbers into 'odds'\n  i += 2; // Increment by 2 to get the next odd number\n}\n\nconsole.log(odds);\n",
      "text/plain": [
       "<IPython.core.display.Javascript object>"
      ]
     },
     "metadata": {},
     "output_type": "display_data"
    }
   ],
   "source": [
    "%%js\n",
    "let odds = []; // Changed the variable name to 'odds'\n",
    "let i = 1; // Start from 1 to include odd numbers\n",
    "\n",
    "while (i <= 10) {\n",
    "  odds.push(i); // Push odd numbers into 'odds'\n",
    "  i += 2; // Increment by 2 to get the next odd number\n",
    "}\n",
    "\n",
    "console.log(odds);\n"
   ]
  },
  {
   "cell_type": "markdown",
   "metadata": {},
   "source": [
    "## What I changed\n",
    "1. Changed the variable name from 'evens' to 'odds' \n",
    "2. Started 'i' from 1 to include odd numbers. \n",
    "3. Made 'i' go by two to get all the odd numbers. "
   ]
  },
  {
   "cell_type": "code",
   "execution_count": 8,
   "metadata": {
    "vscode": {
     "languageId": "javascript"
    }
   },
   "outputs": [
    {
     "data": {
      "application/javascript": "var numbers = [];\nvar newNumbers = [];\nvar i = 1; // Start from 1 to include numbers between 1 and 100\n\nwhile (i <= 100) { // Changed the loop condition to include numbers up to 100\n    numbers.push(i);\n    i += 1;\n}\n\nfor (var num of numbers) { // Used 'num' as the loop variable\n    if (num % 5 === 0 || num % 2 === 0) { // Check for multiples of 2 or 5\n        newNumbers.push(num);\n    }\n}\n\nconsole.log(newNumbers);\n",
      "text/plain": [
       "<IPython.core.display.Javascript object>"
      ]
     },
     "metadata": {},
     "output_type": "display_data"
    }
   ],
   "source": [
    "%%js\n",
    "var numbers = [];\n",
    "var newNumbers = [];\n",
    "var i = 1; // Start from 1 to include numbers between 1 and 100\n",
    "\n",
    "while (i <= 100) { // Changed the loop condition to include numbers up to 100\n",
    "    numbers.push(i);\n",
    "    i += 1;\n",
    "}\n",
    "\n",
    "for (var num of numbers) { // Used 'num' as the loop variable\n",
    "    if (num % 5 === 0 || num % 2 === 0) { // Check for multiples of 2 or 5\n",
    "        newNumbers.push(num);\n",
    "    }\n",
    "}\n",
    "\n",
    "console.log(newNumbers);\n"
   ]
  },
  {
   "cell_type": "markdown",
   "metadata": {},
   "source": [
    "## What I changed\n",
    "1. Changed the loop to go through numbers up to 100\n",
    "2. Used 'num' as the loop variable\n",
    "3. Checked for variables of 2 or 5 "
   ]
  },
  {
   "cell_type": "code",
   "execution_count": 9,
   "metadata": {
    "vscode": {
     "languageId": "javascript"
    }
   },
   "outputs": [
    {
     "data": {
      "application/javascript": "if (keys['ArrowDown'] && player.y < canvas.height) {\n    player.y += player.speed;\n}\n",
      "text/plain": [
       "<IPython.core.display.Javascript object>"
      ]
     },
     "metadata": {},
     "output_type": "display_data"
    }
   ],
   "source": [
    "%%js\n",
    "if (keys['ArrowDown'] && player.y < canvas.height) {\n",
    "    player.y += player.speed;\n",
    "}\n"
   ]
  },
  {
   "cell_type": "markdown",
   "metadata": {},
   "source": [
    "The original code didn't account for the player's size when checking if it's at the bottom of the canvas, which causes a rendering issue"
   ]
  },
  {
   "cell_type": "code",
   "execution_count": 10,
   "metadata": {
    "vscode": {
     "languageId": "javascript"
    }
   },
   "outputs": [
    {
     "data": {
      "application/javascript": "if (keys['ArrowDown'] && player.y < canvas.height - 20) {\n    player.y += player.speed;\n}\n",
      "text/plain": [
       "<IPython.core.display.Javascript object>"
      ]
     },
     "metadata": {},
     "output_type": "display_data"
    }
   ],
   "source": [
    "%%js\n",
    "if (keys['ArrowDown'] && player.y < canvas.height - 20) {\n",
    "    player.y += player.speed;\n",
    "}\n"
   ]
  },
  {
   "cell_type": "markdown",
   "metadata": {},
   "source": [
    "I subtracted the player's height from the canvs, to prevent the rendering issue."
   ]
  }
 ],
 "metadata": {
  "kernelspec": {
   "display_name": "Python 3.10.6 64-bit",
   "language": "python",
   "name": "python3"
  },
  "language_info": {
   "codemirror_mode": {
    "name": "ipython",
    "version": 3
   },
   "file_extension": ".py",
   "mimetype": "text/x-python",
   "name": "python",
   "nbconvert_exporter": "python",
   "pygments_lexer": "ipython3",
   "version": "3.10.12"
  },
  "orig_nbformat": 4,
  "vscode": {
   "interpreter": {
    "hash": "aee8b7b246df8f9039afb4144a1f6fd8d2ca17a180786b69acc140d282b71a49"
   }
  }
 },
 "nbformat": 4,
 "nbformat_minor": 2
}
