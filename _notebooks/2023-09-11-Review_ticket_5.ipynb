{
 "cells": [
  {
   "cell_type": "code",
   "execution_count": null,
   "metadata": {},
   "outputs": [],
   "source": [
    "---\n",
    "layout: post\n",
    "title: Review Ticket\n",
    "description: Review ticket for Week 5\n",
    "toc: false\n",
    "comments: false\n",
    "courses: { compsci: {week: 5} }\n",
    "type: tangibles\n",
    "---"
   ]
  },
  {
   "cell_type": "markdown",
   "metadata": {},
   "source": [
    "## Addition to Calculator: Ability to use backspace + click keys on keyboard\n",
    "  // Listen for keyboard events\n",
    "  document.addEventListener(\"keydown\", function(event) {\n",
    "  // Check which key was pressed\n",
    "  const key = event.key;\n",
    "\n",
    "  // Handle numbers (0-9) and decimal point\n",
    "  if (/^[0-9]$/.test(key) || key === \".\") {\n",
    "    number(key);\n",
    "  }\n",
    "\n",
    "  // Handle Backspace key for delete\n",
    "  if (key === \"Backspace\") {\n",
    "    deleteLastCharacter();\n",
    "  }\n",
    "  });\n",
    "\n",
    "  // Function to delete the last character\n",
    "  function deleteLastCharacter() {\n",
    "  const currentOutput = output.innerHTML;\n",
    "  if (currentOutput.length > 1) {\n",
    "    output.innerHTML = currentOutput.slice(0, -1);\n",
    "  } else {\n",
    "    output.innerHTML = \"0\";\n",
    "    nextReady = true;\n",
    "  }\n",
    "}"
   ]
  },
  {
   "cell_type": "markdown",
   "metadata": {},
   "source": [
    "### Explanation\n",
    "This code listens for certain key clicks. This code gives function to the 0-9 keys, the decimal, and backspace. The decimal and number keys are the easiest because you just need to lsiten for it and then input it into the calculator. The backspace is harder because it requires you to give the key a function that isn't as straight forward as numbers."
   ]
  },
  {
   "cell_type": "markdown",
   "metadata": {},
   "source": [
    "## Problem I Faced\n",
    "When viewing my github pages, many of my notebooks were unavailable. So a simple, yet hard to find fix was going into the github repository and opening one of the notebook files. This easy yet effective fix was something that I stumbled upon trying to investigate the issue."
   ]
  }
 ],
 "metadata": {
  "language_info": {
   "name": "python"
  },
  "orig_nbformat": 4
 },
 "nbformat": 4,
 "nbformat_minor": 2
}
