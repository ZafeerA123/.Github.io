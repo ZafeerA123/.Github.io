{
 "cells": [
  {
   "cell_type": "code",
   "execution_count": null,
   "metadata": {},
   "outputs": [],
   "source": [
    "---\n",
    "layout: post\n",
    "title: Daily Plan Week 4\n",
    "description: Daily Plan for Week 4\n",
    "toc: true\n",
    "comments: true\n",
    "categories: [5.A, C4.1]\n",
    "courses: { compsci: {week: 4} }\n",
    "type: plans\n",
    "---"
   ]
  },
  {
   "cell_type": "markdown",
   "metadata": {},
   "source": [
    "## Plans for the Week\n",
    "Monday: JS Input and Calculator Review Assignment.  Live Reviews\n",
    "Tuesday: Work day.  Live Reviews\n",
    "Wednesday: Agile Methodology, teams of 4\n",
    "Thursday:  JS Output, debugging.\n",
    "Friday: Work day, Start Calculator Reviews on Monday "
   ]
  }
 ],
 "metadata": {
  "language_info": {
   "name": "python"
  },
  "orig_nbformat": 4
 },
 "nbformat": 4,
 "nbformat_minor": 2
}
