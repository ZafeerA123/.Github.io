{
 "cells": [
  {
   "cell_type": "code",
   "execution_count": null,
   "metadata": {},
   "outputs": [],
   "source": [
    "---\n",
    "layout: post\n",
    "title: Daily Plan Week 5\n",
    "description: Daily Plan for Week 5\n",
    "toc: true\n",
    "comments: true\n",
    "courses: { compsci: {week: 5} }\n",
    "type: plans\n",
    "---"
   ]
  },
  {
   "cell_type": "markdown",
   "metadata": {},
   "source": [
    "## Plans for the Week\n",
    "- Tue - Work Day finish up <a href =\"https://zafeera123.github.io/ZafeerA123//2023/08/31/Calculator_IPYNB_2_.html\">Calculator work</a>\n",
    "- Wed - Find a Sprite Tech Talk, Live Reviews we will call on groups \n",
    "- Thu - JS Sprite Animation Tech Talk \n",
    "- Fri - Web Programming Basics, Next Assignment and Objectives"
   ]
  }
 ],
 "metadata": {
  "language_info": {
   "name": "python"
  },
  "orig_nbformat": 4
 },
 "nbformat": 4,
 "nbformat_minor": 2
}
