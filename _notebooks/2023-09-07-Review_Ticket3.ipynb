{
 "cells": [
  {
   "cell_type": "code",
   "execution_count": 2,
   "metadata": {},
   "outputs": [
    {
     "ename": "SyntaxError",
     "evalue": "invalid syntax (2813559747.py, line 1)",
     "output_type": "error",
     "traceback": [
      "\u001b[0;36m  File \u001b[0;32m\"/tmp/ipykernel_9019/2813559747.py\"\u001b[0;36m, line \u001b[0;32m1\u001b[0m\n\u001b[0;31m    ---\u001b[0m\n\u001b[0m       ^\u001b[0m\n\u001b[0;31mSyntaxError\u001b[0m\u001b[0;31m:\u001b[0m invalid syntax\n"
     ]
    }
   ],
   "source": [
    "---\n",
    "toc: False\n",
    "comments: true\n",
    "layout: post\n",
    "title: Review Ticket\n",
    "description: This is a review of everything learned in week 3\n",
    "type: tangibles\n",
    "courses: { compsci: {week: 3} }\n",
    "categories: [C4.1]\n",
    "---"
   ]
  },
  {
   "cell_type": "markdown",
   "metadata": {},
   "source": [
    "## How to input hyperlink into blog"
   ]
  },
  {
   "cell_type": "markdown",
   "metadata": {},
   "source": [
    "\n",
    "FOR EXAMPLE: \n",
    "[YOUTUBE](https://www.youtube.com/)\n"
   ]
  },
  {
   "cell_type": "markdown",
   "metadata": {},
   "source": [
    "## Review this document\n",
    "<a href=\"http://127.0.0.1:4200/ZafeerA123//5.a/c4.1/2023/08/16/linux_shell_IPYNB_2_.html\">linux review</a>\n"
   ]
  },
  {
   "cell_type": "markdown",
   "metadata": {},
   "source": [
    "## Experimentation with bash in jupyter notebook"
   ]
  },
  {
   "cell_type": "code",
   "execution_count": null,
   "metadata": {
    "vscode": {
     "languageId": "shellscript"
    }
   },
   "outputs": [
    {
     "name": "stdout",
     "output_type": "stream",
     "text": [
      "Hello World!\n",
      "Using the echo command!\n"
     ]
    }
   ],
   "source": [
    "%%script bash\n",
    "## Personal Experimentation\n",
    "echo \"Hello World!\"\n",
    "echo \"Using the echo command!\""
   ]
  },
  {
   "cell_type": "markdown",
   "metadata": {},
   "source": [
    "The code above is telling the jupyter notebook to interpet all the code \n",
    "following \"%%script bash\" as a Bash script. This allows for mixng between \n",
    "languages. Echo prints to the standard output. "
   ]
  },
  {
   "cell_type": "markdown",
   "metadata": {},
   "source": [
    "## Experimentation with Basic html"
   ]
  },
  {
   "cell_type": "code",
   "execution_count": 6,
   "metadata": {
    "vscode": {
     "languageId": "html"
    }
   },
   "outputs": [
    {
     "data": {
      "text/html": [
       "<!DOCTYPE html>\n",
       "<html>\n",
       "<head>\n",
       "    <style>\n",
       "        body {\n",
       "            font-family: Arial, sans-serif;\n",
       "        }\n",
       "        \n",
       "        h1 {\n",
       "            color: #333;\n",
       "        }\n",
       "        \n",
       "        p {\n",
       "            color: #666;\n",
       "            font-size: 16px;\n",
       "        }\n",
       "    </style>\n",
       "</head>\n",
       "<body>\n",
       "    <h1>Welcome to My Web Page</h1>\n",
       "</body>\n",
       "</html>\n"
      ],
      "text/plain": [
       "<IPython.core.display.HTML object>"
      ]
     },
     "metadata": {},
     "output_type": "display_data"
    }
   ],
   "source": [
    "%%html\n",
    "<!DOCTYPE html>\n",
    "<html>\n",
    "<head>\n",
    "    <style>\n",
    "        body {\n",
    "            font-family: Arial, sans-serif;\n",
    "        }\n",
    "        \n",
    "        h1 {\n",
    "            color: #333;\n",
    "        }\n",
    "        \n",
    "        p {\n",
    "            color: #666;\n",
    "            font-size: 16px;\n",
    "        }\n",
    "    </style>\n",
    "</head>\n",
    "<body>\n",
    "    <h1>Welcome to My Web Page</h1>\n",
    "</body>\n",
    "</html>\n"
   ]
  },
  {
   "cell_type": "code",
   "execution_count": null,
   "metadata": {
    "vscode": {
     "languageId": "html"
    }
   },
   "outputs": [],
   "source": []
  },
  {
   "cell_type": "markdown",
   "metadata": {},
   "source": [
    "<br>\n",
    "<br>"
   ]
  },
  {
   "cell_type": "markdown",
   "metadata": {},
   "source": [
    "<!-- Head contains information to Support the Document -->\n",
    "<head>\n",
    "    <!-- load jQuery and DataTables output style and scripts -->\n",
    "    <link rel=\"stylesheet\" type=\"text/css\" href=\"https://cdn.datatables.net/1.13.4/css/jquery.dataTables.min.css\">\n",
    "    <script type=\"text/javascript\" language=\"javascript\" src=\"https://code.jquery.com/jquery-3.6.0.min.js\"></script>\n",
    "    <script>var define = null;</script>\n",
    "    <script type=\"text/javascript\" language=\"javascript\" src=\"https://cdn.datatables.net/1.13.4/js/jquery.dataTables.min.js\"></script>\n",
    "</head>\n",
    "\n",
    "<!-- Body contains the contents of the Document -->\n",
    "<body>\n",
    "    <table id=\"md_demo\" class=\"table\">\n",
    "        <thead>\n",
    "            <tr>\n",
    "                <th>Make</th>\n",
    "                <th>Model</th>\n",
    "                <th>Year</th>\n",
    "                <th>Color</th>\n",
    "                <th>Price</th>\n",
    "            </tr>\n",
    "        </thead>\n",
    "        <tbody>\n",
    "            <tr>\n",
    "                <td>Ford</td>\n",
    "                <td>Mustang</td>\n",
    "                <td>2022</td>\n",
    "                <td>Red</td>\n",
    "                <td>$35,000</td>\n",
    "            </tr>\n",
    "            <tr>\n",
    "                <td>Toyota</td>\n",
    "                <td>Camry</td>\n",
    "                <td>2022</td>\n",
    "                <td>Silver</td>\n",
    "                <td>$25,000</td>\n",
    "            </tr>\n",
    "            <tr>\n",
    "                <td>Tesla</td>\n",
    "                <td>Model S</td>\n",
    "                <td>2022</td>\n",
    "                <td>White</td>\n",
    "                <td>$80,000</td>\n",
    "            </tr>\n",
    "            <tr>\n",
    "                <td>Cadillac</td>\n",
    "                <td>Broughan</td>\n",
    "                <td>1969</td>\n",
    "                <td>Black</td>\n",
    "                <td>$10,000</td>\n",
    "            </tr>\n",
    "            <tr>\n",
    "                <td>Ford</td>\n",
    "                <td>F-350</td>\n",
    "                <td>1997</td>\n",
    "                <td>Green</td>\n",
    "                <td>$15,000</td>\n",
    "            </tr>\n",
    "            <tr>\n",
    "                <td>Ford</td>\n",
    "                <td>Excursion</td>\n",
    "                <td>2003</td>\n",
    "                <td>Green</td>\n",
    "                <td>$25,000</td>\n",
    "            </tr>\n",
    "            <tr>\n",
    "                <td>Ford</td>\n",
    "                <td>Ranger</td>\n",
    "                <td>2012</td>\n",
    "                <td>Red</td>\n",
    "                <td>$8,000</td>\n",
    "            </tr>\n",
    "            <tr>\n",
    "                <td>Kuboto</td>\n",
    "                <td>L3301 Tractor</td>\n",
    "                <td>2015</td>\n",
    "                <td>Orange</td>\n",
    "                <td>$12,000</td>\n",
    "            </tr>\n",
    "            <tr>\n",
    "                <td>Ford</td>\n",
    "                <td>Fusion Energi</td>\n",
    "                <td>2015</td>\n",
    "                <td>Guard</td>\n",
    "                <td>$25,000</td>\n",
    "            </tr>\n",
    "            <tr>\n",
    "                <td>Acura</td>\n",
    "                <td>XL</td>\n",
    "                <td>2006</td>\n",
    "                <td>Grey</td>\n",
    "                <td>$10,000</td>\n",
    "            </tr>\n",
    "            <tr>\n",
    "                <td>Ford</td>\n",
    "                <td>F150 Lightning</td>\n",
    "                <td>2024</td>\n",
    "                <td>Guard</td>\n",
    "                <td>$70,000</td>\n",
    "            </tr>\n",
    "        </tbody>\n",
    "    </table>\n",
    "</body>\n",
    "\n",
    "<!-- Script is used to embed executable code -->\n",
    "<script>\n",
    "    $(\"#md_demo\").DataTable();\n",
    "</script>"
   ]
  },
  {
   "cell_type": "markdown",
   "metadata": {},
   "source": [
    "## After exploring the interactble html code, here is what I have learned this week. "
   ]
  },
  {
   "cell_type": "markdown",
   "metadata": {},
   "source": [
    "Bash:\n",
    "You can go in and out of bash by doing the %%script bash command\n",
    "\n",
    "HTML: \n",
    "By doing the magic %%html, it tells jupyter notebook that the following commands will be in HTML. HTML is best used for website design. \n",
    "\n",
    "JavaScript:\n",
    "JavaScript is a versatile programming language primarily used for adding interactivity to web pages. It allows you to manipulate web page content, respond to user actions, and make web pages unique overall.\n",
    "\n",
    "Main Commands in the HTML and JavaScript Code:\n",
    "\n",
    "Table: This HTML element defines a table in the web page, providing a structure for tabular data.\n",
    "\n",
    "thead and tbody: These HTML elements specify the header and body sections of the table, respectively. thead contains column headers, and tbody holds the data rows.\n",
    "\n",
    "tr, th, and td: These HTML elements define table rows (tr), table header cells (t>), and table data cells (td).\n",
    "\n",
    "button <button>: This HTML element creates a clickable button on the web page."
   ]
  }
 ],
 "metadata": {
  "kernelspec": {
   "display_name": "Python 3",
   "language": "python",
   "name": "python3"
  },
  "language_info": {
   "codemirror_mode": {
    "name": "ipython",
    "version": 3
   },
   "file_extension": ".py",
   "mimetype": "text/x-python",
   "name": "python",
   "nbconvert_exporter": "python",
   "pygments_lexer": "ipython3",
   "version": "3.10.12"
  },
  "orig_nbformat": 4
 },
 "nbformat": 4,
 "nbformat_minor": 2
}
