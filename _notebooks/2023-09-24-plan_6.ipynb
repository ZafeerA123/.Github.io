{
 "cells": [
  {
   "cell_type": "code",
   "execution_count": null,
   "metadata": {},
   "outputs": [],
   "source": [
    "---\n",
    "layout: post\n",
    "title: Daily Plan Week 6\n",
    "description: Daily Plan for Week 6\n",
    "toc: true\n",
    "comments: true\n",
    "courses: { compsci: {week: 6} }\n",
    "type: plans\n",
    "---"
   ]
  },
  {
   "cell_type": "markdown",
   "metadata": {},
   "source": [
    "## Plans for the Week\n",
    "- M - Web Programming Basic Test, build this into individual Time Box\n",
    "- Tu - Plans ’till End of Trimester.\n",
    "- W - Mario Animation, a second technique with left movement and different frame lengths for animation\n",
    "- Th - Work Day, short day\n",
    "- F - Web Programming Basic Test grading w/ first animations.   3rd period will have Self Grade, Peer Grade, Team Grade, and TA Grade prior to showing results to Teacher.  4th period will have Self Grade, Peer Grade and Team Grade prior to showing results to Teacher.  An Issue with comments from each grader is required."
   ]
  }
 ],
 "metadata": {
  "language_info": {
   "name": "python"
  },
  "orig_nbformat": 4
 },
 "nbformat": 4,
 "nbformat_minor": 2
}
