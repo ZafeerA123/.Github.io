{
 "cells": [
  {
   "cell_type": "code",
   "execution_count": null,
   "metadata": {},
   "outputs": [],
   "source": [
    "---\n",
    "layout: post\n",
    "title: Daily Plan Week 6\n",
    "description: Daily Plan for Week 6\n",
    "toc: true\n",
    "comments: true\n",
    "courses: { compsci: {week: 6} }\n",
    "type: plans\n",
    "---"
   ]
  },
  {
   "cell_type": "markdown",
   "metadata": {},
   "source": [
    "## Plans for the Week\n",
    "- M - Web Programming Basic Test, build this into individual Time Box\n",
    "- Tu - Plans ’till End of Trimester.\n",
    "- W - Mario Animation, a second technique with left movement and different frame lengths for animation\n",
    "- Th - Work Day, short day\n",
    "- F - Web Programming Basic Test grading w/ first animations.   3rd period will have Self Grade, Peer Grade, Team Grade, and TA Grade prior to showing results to Teacher.  4th period will have Self Grade, Peer Grade and Team Grade prior to showing results to Teacher.  An Issue with comments from each grader is required."
   ]
  },
  {
   "cell_type": "markdown",
   "metadata": {},
   "source": [
    "## Test for friday\n",
    "HTML:\n",
    "\n",
    "Learn the basics of HTML, including the structure of HTML documents and common HTML tags like <html>, <head>, <body>, and various content tags.\n",
    "Understand the concept of HTML elements, including opening and closing tags, and how they enclose content.\n",
    "Learn about HTML attributes and how they are used within tags.\n",
    "Study various HTML tags such as headings, paragraphs, links, and text formatting tags (like <strong> and <i>).\n",
    "Practice creating basic HTML documents and elements based on the given examples.\n",
    "Explore additional HTML tags and attributes beyond the provided examples.\n",
    "Familiarize yourself with online resources like W3Schools for HTML documentation and examples.\n",
    "Data Types (JavaScript):\n",
    "\n",
    "Understand JavaScript data types, including strings, numbers, and booleans.\n",
    "Learn how to declare and initialize variables in JavaScript using the var, let, or const keywords.\n",
    "Practice manipulating strings using methods like .substring(), .toUpperCase(), .toLowerCase(), and .includes().\n",
    "Perform mathematical operations on numbers, such as addition, subtraction, multiplication, division, and modulo.\n",
    "Explore the concept of arrays in JavaScript, including creating arrays, accessing elements, and using methods like .push(), .shift(), and .pop().\n",
    "Learn about JavaScript objects and how to create, access, and manipulate key-value pairs.\n",
    "Practice creating JavaScript code that works with different data types.\n",
    "DOM (JavaScript and HTML Document Object Model):\n",
    "\n",
    "Understand how JavaScript can interact with HTML using the DOM (Document Object Model).\n",
    "Learn how to reference HTML elements using document.getElementById().\n",
    "Access and manipulate data within HTML elements using .innerHTML.\n",
    "Set data within HTML elements by assigning values to .innerHTML.\n",
    "Create new HTML elements dynamically using document.createElement().\n",
    "Ensure newly created elements are added to the HTML page by using .appendChild().\n",
    "Explore how to create and use functions in JavaScript for code reusability.\n",
    "Practice using event handlers like onclick to trigger functions in response to user actions.\n",
    "JavaScript:\n",
    "\n",
    "Learn how to include JavaScript code in HTML pages using <script> tags.\n",
    "Use console.log() to print messages and variables to the console for debugging purposes.\n",
    "Understand the basics of JavaScript variables, data types, and operators.\n",
    "Practice conditional statements (if, else if, and else) for decision-making in code.\n",
    "Explore various JavaScript operators, including arithmetic operators and comparison operators.\n",
    "Debug code segments to identify and correct errors.\n",
    "Develop problem-solving skills by fixing code issues and improving code logic.\n",
    "JS Debugging:\n",
    "\n",
    "Review and practice identifying common types of errors in JavaScript code.\n",
    "Learn debugging strategies and techniques for finding and fixing code errors.\n",
    "Familiarize yourself with tools like the browser's developer console for debugging.\n",
    "Work on code segments with errors and apply debugging skills to correct them.\n",
    "Challenge yourself with debugging exercises and practice problem-solving. <br>"
   ]
  }
 ],
 "metadata": {
  "language_info": {
   "name": "python"
  },
  "orig_nbformat": 4
 },
 "nbformat": 4,
 "nbformat_minor": 2
}
